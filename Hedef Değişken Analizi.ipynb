{
 "cells": [
  {
   "cell_type": "code",
   "execution_count": null,
   "id": "afdedbb3-2119-4814-819b-a4e8feb01394",
   "metadata": {},
   "outputs": [],
   "source": []
  },
  {
   "cell_type": "markdown",
   "id": "6de63179-dd26-488e-a89b-35b107856057",
   "metadata": {},
   "source": [
    "Hedef Değişken (Target Variable) Nedir?\n",
    " Hedef değişken, bir makine öğrenimi modelinde tahmin edilmeye çalışılan asıl değişkendir. Model, bu değişkeni diğer bağımsız değişkenlerle ilişkilendirerek tahmin yapar. \n",
    " Hedef değişken, genellikle sınıflandırma problemlerinde kategorik, regresyon problemlerinde ise sayısal olabilir."
   ]
  },
  {
   "cell_type": "code",
   "execution_count": 1,
   "id": "500d4338-3d46-4225-aff8-68052924c67d",
   "metadata": {},
   "outputs": [
    {
     "data": {
      "text/html": [
       "<div>\n",
       "<style scoped>\n",
       "    .dataframe tbody tr th:only-of-type {\n",
       "        vertical-align: middle;\n",
       "    }\n",
       "\n",
       "    .dataframe tbody tr th {\n",
       "        vertical-align: top;\n",
       "    }\n",
       "\n",
       "    .dataframe thead th {\n",
       "        text-align: right;\n",
       "    }\n",
       "</style>\n",
       "<table border=\"1\" class=\"dataframe\">\n",
       "  <thead>\n",
       "    <tr style=\"text-align: right;\">\n",
       "      <th></th>\n",
       "      <th>survived</th>\n",
       "      <th>pclass</th>\n",
       "      <th>sex</th>\n",
       "      <th>age</th>\n",
       "      <th>sibsp</th>\n",
       "      <th>parch</th>\n",
       "      <th>fare</th>\n",
       "      <th>embarked</th>\n",
       "      <th>class</th>\n",
       "      <th>who</th>\n",
       "      <th>adult_male</th>\n",
       "      <th>deck</th>\n",
       "      <th>embark_town</th>\n",
       "      <th>alive</th>\n",
       "      <th>alone</th>\n",
       "    </tr>\n",
       "  </thead>\n",
       "  <tbody>\n",
       "    <tr>\n",
       "      <th>0</th>\n",
       "      <td>0</td>\n",
       "      <td>3</td>\n",
       "      <td>male</td>\n",
       "      <td>22.0</td>\n",
       "      <td>1</td>\n",
       "      <td>0</td>\n",
       "      <td>7.2500</td>\n",
       "      <td>S</td>\n",
       "      <td>Third</td>\n",
       "      <td>man</td>\n",
       "      <td>True</td>\n",
       "      <td>NaN</td>\n",
       "      <td>Southampton</td>\n",
       "      <td>no</td>\n",
       "      <td>False</td>\n",
       "    </tr>\n",
       "    <tr>\n",
       "      <th>1</th>\n",
       "      <td>1</td>\n",
       "      <td>1</td>\n",
       "      <td>female</td>\n",
       "      <td>38.0</td>\n",
       "      <td>1</td>\n",
       "      <td>0</td>\n",
       "      <td>71.2833</td>\n",
       "      <td>C</td>\n",
       "      <td>First</td>\n",
       "      <td>woman</td>\n",
       "      <td>False</td>\n",
       "      <td>C</td>\n",
       "      <td>Cherbourg</td>\n",
       "      <td>yes</td>\n",
       "      <td>False</td>\n",
       "    </tr>\n",
       "    <tr>\n",
       "      <th>2</th>\n",
       "      <td>1</td>\n",
       "      <td>3</td>\n",
       "      <td>female</td>\n",
       "      <td>26.0</td>\n",
       "      <td>0</td>\n",
       "      <td>0</td>\n",
       "      <td>7.9250</td>\n",
       "      <td>S</td>\n",
       "      <td>Third</td>\n",
       "      <td>woman</td>\n",
       "      <td>False</td>\n",
       "      <td>NaN</td>\n",
       "      <td>Southampton</td>\n",
       "      <td>yes</td>\n",
       "      <td>True</td>\n",
       "    </tr>\n",
       "    <tr>\n",
       "      <th>3</th>\n",
       "      <td>1</td>\n",
       "      <td>1</td>\n",
       "      <td>female</td>\n",
       "      <td>35.0</td>\n",
       "      <td>1</td>\n",
       "      <td>0</td>\n",
       "      <td>53.1000</td>\n",
       "      <td>S</td>\n",
       "      <td>First</td>\n",
       "      <td>woman</td>\n",
       "      <td>False</td>\n",
       "      <td>C</td>\n",
       "      <td>Southampton</td>\n",
       "      <td>yes</td>\n",
       "      <td>False</td>\n",
       "    </tr>\n",
       "    <tr>\n",
       "      <th>4</th>\n",
       "      <td>0</td>\n",
       "      <td>3</td>\n",
       "      <td>male</td>\n",
       "      <td>35.0</td>\n",
       "      <td>0</td>\n",
       "      <td>0</td>\n",
       "      <td>8.0500</td>\n",
       "      <td>S</td>\n",
       "      <td>Third</td>\n",
       "      <td>man</td>\n",
       "      <td>True</td>\n",
       "      <td>NaN</td>\n",
       "      <td>Southampton</td>\n",
       "      <td>no</td>\n",
       "      <td>True</td>\n",
       "    </tr>\n",
       "  </tbody>\n",
       "</table>\n",
       "</div>"
      ],
      "text/plain": [
       "   survived  pclass     sex   age  sibsp  parch     fare embarked  class    who  adult_male deck  embark_town alive  alone\n",
       "0         0       3    male  22.0      1      0   7.2500        S  Third    man        True  NaN  Southampton    no  False\n",
       "1         1       1  female  38.0      1      0  71.2833        C  First  woman       False    C    Cherbourg   yes  False\n",
       "2         1       3  female  26.0      0      0   7.9250        S  Third  woman       False  NaN  Southampton   yes   True\n",
       "3         1       1  female  35.0      1      0  53.1000        S  First  woman       False    C  Southampton   yes  False\n",
       "4         0       3    male  35.0      0      0   8.0500        S  Third    man        True  NaN  Southampton    no   True"
      ]
     },
     "execution_count": 1,
     "metadata": {},
     "output_type": "execute_result"
    }
   ],
   "source": [
    "import numpy as np \n",
    "import pandas as pd \n",
    "import seaborn as sns \n",
    "import matplotlib.pyplot as plt \n",
    "pd.set_option('display.max_columns',None) \n",
    "pd.set_option('display.width',500) \n",
    "df =sns.load_dataset('titanic')\n",
    "df.head()"
   ]
  },
  {
   "cell_type": "code",
   "execution_count": 2,
   "id": "86e40010-f9ca-43d7-ad25-2ac06146da26",
   "metadata": {},
   "outputs": [
    {
     "data": {
      "text/plain": [
       "sex\n",
       "female    0.742038\n",
       "male      0.188908\n",
       "Name: survived, dtype: float64"
      ]
     },
     "execution_count": 2,
     "metadata": {},
     "output_type": "execute_result"
    }
   ],
   "source": [
    "df.groupby(\"sex\")[\"survived\"].mean()"
   ]
  },
  {
   "cell_type": "code",
   "execution_count": 6,
   "id": "afbe66f5-6ff9-4636-bc3d-0fb6172a08b7",
   "metadata": {},
   "outputs": [],
   "source": [
    "def grab_col_names(dataframe, cat_th=10, car_th=20): \n",
    "    cat_cols = [item for item in df.columns if str(df[item].dtypes) in[\"category\",\"object\",\"bool\"]]\n",
    "\n",
    "    num_but_cat  = [item for item in df.columns if df[item].nunique()<10 and df[item].dtypes in [\"int64\",\"float64\"]]\n",
    "\n",
    "    cat_but_car = [item for item in df.columns if df[item].nunique()>20 and str(df[item].dtypes) in [\"category\",\"object\"]]\n",
    "\n",
    "    cat_cols = cat_cols +num_but_cat\n",
    "    \n",
    "    cat_cols =[ col for col in cat_cols if col not in cat_but_car]\n",
    "\n",
    "    num_cols = [col for col in df.columns if  df[col].dtypes in [\"int64\",\"float64\"]] \n",
    "    num_cols = [col for col in num_cols if col not in cat_cols]\n",
    "\n",
    "    return cat_cols,num_cols,cat_but_car"
   ]
  },
  {
   "cell_type": "code",
   "execution_count": 7,
   "id": "7fa79cc0-a6da-4efb-a8fe-f595d2753ea0",
   "metadata": {},
   "outputs": [
    {
     "data": {
      "text/plain": [
       "(['sex',\n",
       "  'embarked',\n",
       "  'class',\n",
       "  'who',\n",
       "  'adult_male',\n",
       "  'deck',\n",
       "  'embark_town',\n",
       "  'alive',\n",
       "  'alone',\n",
       "  'survived',\n",
       "  'pclass',\n",
       "  'sibsp',\n",
       "  'parch'],\n",
       " ['age', 'fare'],\n",
       " [])"
      ]
     },
     "execution_count": 7,
     "metadata": {},
     "output_type": "execute_result"
    }
   ],
   "source": [
    "grab_col_names(df)"
   ]
  },
  {
   "cell_type": "code",
   "execution_count": 12,
   "id": "c4af2e7d-91a1-48ea-bebb-c759164412d3",
   "metadata": {},
   "outputs": [],
   "source": [
    "cat_cols,num_cols,cat_but_car = grab_col_names(df)"
   ]
  },
  {
   "cell_type": "code",
   "execution_count": 13,
   "id": "4836cc0c-5bf9-4b77-826c-0116f0cc4736",
   "metadata": {},
   "outputs": [
    {
     "data": {
      "text/plain": [
       "['sex',\n",
       " 'embarked',\n",
       " 'class',\n",
       " 'who',\n",
       " 'adult_male',\n",
       " 'deck',\n",
       " 'embark_town',\n",
       " 'alive',\n",
       " 'alone',\n",
       " 'survived',\n",
       " 'pclass',\n",
       " 'sibsp',\n",
       " 'parch']"
      ]
     },
     "execution_count": 13,
     "metadata": {},
     "output_type": "execute_result"
    }
   ],
   "source": [
    "cat_cols"
   ]
  },
  {
   "cell_type": "code",
   "execution_count": 14,
   "id": "d0368914-ed6e-4817-92e4-da7cbe11af41",
   "metadata": {},
   "outputs": [
    {
     "data": {
      "text/plain": [
       "['age', 'fare']"
      ]
     },
     "execution_count": 14,
     "metadata": {},
     "output_type": "execute_result"
    }
   ],
   "source": [
    "num_cols"
   ]
  },
  {
   "cell_type": "code",
   "execution_count": 15,
   "id": "be5295ed-6131-41fa-a7f9-67ff16caec69",
   "metadata": {},
   "outputs": [
    {
     "name": "stdout",
     "output_type": "stream",
     "text": [
      "{'sex': sex\n",
      "male      577\n",
      "female    314\n",
      "Name: count, dtype: int64, 'Ratio': sex\n",
      "male      64.758698\n",
      "female    35.241302\n",
      "Name: count, dtype: float64}\n",
      "********************************\n"
     ]
    },
    {
     "data": {
      "image/png": "[encoded data removed]",
      "text/plain": [
       "<Figure size 640x480 with 1 Axes>"
      ]
     },
     "metadata": {},
     "output_type": "display_data"
    }
   ],
   "source": [
    "# cat_summary fonksiyonuna veri görselleştirme özelliği de ekleyelim. \n",
    "#Elimizde kategorik değişkenler varsa, bunları sütun grafikleri ile görselleştirmeliyiz. \n",
    "#Bu amaçla, Seaborn kütüphanesinden countplot() fonksiyonunu kullanarak kategorik değişkenleri görselleştirebiliriz.\n",
    "def cat_summary(dataframe,col_name,plot=False):\n",
    "    print({col_name:dataframe[col_name].value_counts(), \n",
    "          \"Ratio\":100*dataframe[col_name].value_counts() / len(dataframe)})\n",
    "    print(\"********************************\")\n",
    "\n",
    "    if plot: #eğer True ise; \n",
    "       sns.countplot(x=dataframe[col_name], data=dataframe)\n",
    "       plt.show()\n",
    "        \n",
    "\n",
    "cat_summary(df, \"sex\", plot=True)    \n",
    "\n",
    "\n",
    "pd.options.mode.chained_assignment = None    # Bu genellikle chained assignment uyarıları içindir  "
   ]
  },
  {
   "cell_type": "code",
   "execution_count": 16,
   "id": "2470c809-2c95-4db7-a7ec-92943c56a6c5",
   "metadata": {},
   "outputs": [
    {
     "name": "stdout",
     "output_type": "stream",
     "text": [
      "{'sex': sex\n",
      "male      577\n",
      "female    314\n",
      "Name: count, dtype: int64, 'Ratio': sex\n",
      "male      64.758698\n",
      "female    35.241302\n",
      "Name: count, dtype: float64}\n",
      "********************************\n",
      "{'embarked': embarked\n",
      "S    644\n",
      "C    168\n",
      "Q     77\n",
      "Name: count, dtype: int64, 'Ratio': embarked\n",
      "S    72.278339\n",
      "C    18.855219\n",
      "Q     8.641975\n",
      "Name: count, dtype: float64}\n",
      "********************************\n",
      "{'class': class\n",
      "Third     491\n",
      "First     216\n",
      "Second    184\n",
      "Name: count, dtype: int64, 'Ratio': class\n",
      "Third     55.106622\n",
      "First     24.242424\n",
      "Second    20.650954\n",
      "Name: count, dtype: float64}\n",
      "********************************\n",
      "{'who': who\n",
      "man      537\n",
      "woman    271\n",
      "child     83\n",
      "Name: count, dtype: int64, 'Ratio': who\n",
      "man      60.269360\n",
      "woman    30.415264\n",
      "child     9.315376\n",
      "Name: count, dtype: float64}\n",
      "********************************\n",
      "{'adult_male': adult_male\n",
      "True     537\n",
      "False    354\n",
      "Name: count, dtype: int64, 'Ratio': adult_male\n",
      "True     60.26936\n",
      "False    39.73064\n",
      "Name: count, dtype: float64}\n",
      "********************************\n",
      "{'deck': deck\n",
      "C    59\n",
      "B    47\n",
      "D    33\n",
      "E    32\n",
      "A    15\n",
      "F    13\n",
      "G     4\n",
      "Name: count, dtype: int64, 'Ratio': deck\n",
      "C    6.621773\n",
      "B    5.274972\n",
      "D    3.703704\n",
      "E    3.591470\n",
      "A    1.683502\n",
      "F    1.459035\n",
      "G    0.448934\n",
      "Name: count, dtype: float64}\n",
      "********************************\n",
      "{'embark_town': embark_town\n",
      "Southampton    644\n",
      "Cherbourg      168\n",
      "Queenstown      77\n",
      "Name: count, dtype: int64, 'Ratio': embark_town\n",
      "Southampton    72.278339\n",
      "Cherbourg      18.855219\n",
      "Queenstown      8.641975\n",
      "Name: count, dtype: float64}\n",
      "********************************\n",
      "{'alive': alive\n",
      "no     549\n",
      "yes    342\n",
      "Name: count, dtype: int64, 'Ratio': alive\n",
      "no     61.616162\n",
      "yes    38.383838\n",
      "Name: count, dtype: float64}\n",
      "********************************\n",
      "{'alone': alone\n",
      "True     537\n",
      "False    354\n",
      "Name: count, dtype: int64, 'Ratio': alone\n",
      "True     60.26936\n",
      "False    39.73064\n",
      "Name: count, dtype: float64}\n",
      "********************************\n",
      "{'survived': survived\n",
      "0    549\n",
      "1    342\n",
      "Name: count, dtype: int64, 'Ratio': survived\n",
      "0    61.616162\n",
      "1    38.383838\n",
      "Name: count, dtype: float64}\n",
      "********************************\n",
      "{'pclass': pclass\n",
      "3    491\n",
      "1    216\n",
      "2    184\n",
      "Name: count, dtype: int64, 'Ratio': pclass\n",
      "3    55.106622\n",
      "1    24.242424\n",
      "2    20.650954\n",
      "Name: count, dtype: float64}\n",
      "********************************\n",
      "{'sibsp': sibsp\n",
      "0    608\n",
      "1    209\n",
      "2     28\n",
      "4     18\n",
      "3     16\n",
      "8      7\n",
      "5      5\n",
      "Name: count, dtype: int64, 'Ratio': sibsp\n",
      "0    68.237935\n",
      "1    23.456790\n",
      "2     3.142536\n",
      "4     2.020202\n",
      "3     1.795735\n",
      "8     0.785634\n",
      "5     0.561167\n",
      "Name: count, dtype: float64}\n",
      "********************************\n",
      "{'parch': parch\n",
      "0    678\n",
      "1    118\n",
      "2     80\n",
      "5      5\n",
      "3      5\n",
      "4      4\n",
      "6      1\n",
      "Name: count, dtype: int64, 'Ratio': parch\n",
      "0    76.094276\n",
      "1    13.243547\n",
      "2     8.978676\n",
      "5     0.561167\n",
      "3     0.561167\n",
      "4     0.448934\n",
      "6     0.112233\n",
      "Name: count, dtype: float64}\n",
      "********************************\n"
     ]
    }
   ],
   "source": [
    "for col in cat_cols: \n",
    "    cat_summary(df,col)"
   ]
  },
  {
   "cell_type": "code",
   "execution_count": 17,
   "id": "06440669-ef0c-40f3-bb9e-8aa1641d5fa3",
   "metadata": {},
   "outputs": [
    {
     "name": "stdout",
     "output_type": "stream",
     "text": [
      "count    891.000000\n",
      "mean      32.204208\n",
      "std       49.693429\n",
      "min        0.000000\n",
      "10%        7.550000\n",
      "25%        7.910400\n",
      "50%       14.454200\n",
      "75%       31.000000\n",
      "90%       77.958300\n",
      "max      512.329200\n",
      "Name: fare, dtype: float64\n"
     ]
    },
    {
     "data": {
      "image/png": "[encoded data removed]",
      "text/plain": [
       "<Figure size 640x480 with 1 Axes>"
      ]
     },
     "metadata": {},
     "output_type": "display_data"
    }
   ],
   "source": [
    "def num_summary (dataframe , numerical_col,plot=False): \n",
    "    quantiles =[0.1, 0.25, 0.5, 0.75, 0.9] \n",
    "    print(dataframe[numerical_col].describe(quantiles).T)\n",
    "\n",
    "    if plot:\n",
    "        dataframe[numerical_col].hist()\n",
    "        plt.xlabel(numerical_col)\n",
    "        plt.title(numerical_col) \n",
    "        plt.show()\n",
    "\n",
    "num_summary(df,\"fare\",plot=True)"
   ]
  },
  {
   "cell_type": "code",
   "execution_count": 19,
   "id": "5a5183ca-5bf9-4db2-9772-c01ef01b4387",
   "metadata": {},
   "outputs": [
    {
     "name": "stdout",
     "output_type": "stream",
     "text": [
      "count    714.000000\n",
      "mean      29.699118\n",
      "std       14.526497\n",
      "min        0.420000\n",
      "10%       14.000000\n",
      "25%       20.125000\n",
      "50%       28.000000\n",
      "75%       38.000000\n",
      "90%       50.000000\n",
      "max       80.000000\n",
      "Name: age, dtype: float64\n",
      "count    891.000000\n",
      "mean      32.204208\n",
      "std       49.693429\n",
      "min        0.000000\n",
      "10%        7.550000\n",
      "25%        7.910400\n",
      "50%       14.454200\n",
      "75%       31.000000\n",
      "90%       77.958300\n",
      "max      512.329200\n",
      "Name: fare, dtype: float64\n"
     ]
    }
   ],
   "source": [
    "for col in num_cols: \n",
    "    num_summary(df,col)"
   ]
  },
  {
   "cell_type": "code",
   "execution_count": 20,
   "id": "36d1c9a9-cfa0-4a5c-aa96-107c500ab457",
   "metadata": {},
   "outputs": [
    {
     "data": {
      "text/plain": [
       "survived\n",
       "0    549\n",
       "1    342\n",
       "Name: count, dtype: int64"
      ]
     },
     "execution_count": 20,
     "metadata": {},
     "output_type": "execute_result"
    }
   ],
   "source": [
    "df[\"survived\"].value_counts()"
   ]
  },
  {
   "cell_type": "code",
   "execution_count": 21,
   "id": "01bd1d0c-9cb5-447a-a485-7ab4a6782bf6",
   "metadata": {},
   "outputs": [
    {
     "name": "stdout",
     "output_type": "stream",
     "text": [
      "{'survived': survived\n",
      "0    549\n",
      "1    342\n",
      "Name: count, dtype: int64, 'Ratio': survived\n",
      "0    61.616162\n",
      "1    38.383838\n",
      "Name: count, dtype: float64}\n",
      "********************************\n"
     ]
    }
   ],
   "source": [
    "cat_summary(df,\"survived\")"
   ]
  },
  {
   "cell_type": "markdown",
   "id": "3f2d011f-3d92-4871-8c3e-0daa7af0b5ac",
   "metadata": {},
   "source": [
    "Hedef Değişkenin Kategorik Değişkenler İle Analizi\n",
    " Kategorik Değişkenlerle Analiz: Kategorik değişkenlerle hedef değişken analiz edilirken, genellikle hedef değişkenin her kategori için ortalaması ya da belirli bir istatistiği hesaplanır. Örneğin, cinsiyet gibi bir kategorik değişken ile hedef değişken olan hayatta kalma oranını analiz etmek için cinsiyete göre hayatta kalma oranları hesaplanabilir."
   ]
  },
  {
   "cell_type": "code",
   "execution_count": 23,
   "id": "2b06cb74-1996-47e6-bbd4-bd70a317fb0c",
   "metadata": {},
   "outputs": [
    {
     "data": {
      "text/plain": [
       "sex\n",
       "female    0.742038\n",
       "male      0.188908\n",
       "Name: survived, dtype: float64"
      ]
     },
     "execution_count": 23,
     "metadata": {},
     "output_type": "execute_result"
    }
   ],
   "source": [
    "df.groupby(\"sex\")[\"survived\"].mean()"
   ]
  },
  {
   "cell_type": "code",
   "execution_count": 24,
   "id": "45fbc3c7-c6a8-45fd-a6b9-dde65b81e8f6",
   "metadata": {},
   "outputs": [],
   "source": [
    " def target_summary_with_cat(dataframe, target, categorical_col):\n",
    "     print(pd.DataFrame({\"TARGET_MEAN\":dataframe.groupby(categorical_col)[target].mean()}))"
   ]
  },
  {
   "cell_type": "code",
   "execution_count": 26,
   "id": "03c7ca70-eb62-419e-96bd-fb42cc6c3ced",
   "metadata": {},
   "outputs": [
    {
     "name": "stdout",
     "output_type": "stream",
     "text": [
      "        TARGET_MEAN\n",
      "sex                \n",
      "female     0.742038\n",
      "male       0.188908\n"
     ]
    }
   ],
   "source": [
    "target_summary_with_cat(df,\"survived\",\"sex\")"
   ]
  },
  {
   "cell_type": "code",
   "execution_count": 27,
   "id": "723a88f4-4a17-497c-99b5-eee1b7ca3956",
   "metadata": {},
   "outputs": [
    {
     "name": "stdout",
     "output_type": "stream",
     "text": [
      "        TARGET_MEAN\n",
      "sex                \n",
      "female     0.742038\n",
      "male       0.188908\n",
      "          TARGET_MEAN\n",
      "embarked             \n",
      "C            0.553571\n",
      "Q            0.389610\n",
      "S            0.336957\n",
      "        TARGET_MEAN\n",
      "class              \n",
      "First      0.629630\n",
      "Second     0.472826\n",
      "Third      0.242363\n",
      "       TARGET_MEAN\n",
      "who               \n",
      "child     0.590361\n",
      "man       0.163873\n",
      "woman     0.756458\n",
      "            TARGET_MEAN\n",
      "adult_male             \n",
      "False          0.717514\n",
      "True           0.163873\n",
      "      TARGET_MEAN\n",
      "deck             \n",
      "A        0.466667\n",
      "B        0.744681\n",
      "C        0.593220\n",
      "D        0.757576\n",
      "E        0.750000\n",
      "F        0.615385\n",
      "G        0.500000\n",
      "             TARGET_MEAN\n",
      "embark_town             \n",
      "Cherbourg       0.553571\n",
      "Queenstown      0.389610\n",
      "Southampton     0.336957\n",
      "       TARGET_MEAN\n",
      "alive             \n",
      "no             0.0\n",
      "yes            1.0\n",
      "       TARGET_MEAN\n",
      "alone             \n",
      "False     0.505650\n",
      "True      0.303538\n",
      "          TARGET_MEAN\n",
      "survived             \n",
      "0                 0.0\n",
      "1                 1.0\n",
      "        TARGET_MEAN\n",
      "pclass             \n",
      "1          0.629630\n",
      "2          0.472826\n",
      "3          0.242363\n",
      "       TARGET_MEAN\n",
      "sibsp             \n",
      "0         0.345395\n",
      "1         0.535885\n",
      "2         0.464286\n",
      "3         0.250000\n",
      "4         0.166667\n",
      "5         0.000000\n",
      "8         0.000000\n",
      "       TARGET_MEAN\n",
      "parch             \n",
      "0         0.343658\n",
      "1         0.550847\n",
      "2         0.500000\n",
      "3         0.600000\n",
      "4         0.000000\n",
      "5         0.200000\n",
      "6         0.000000\n"
     ]
    },
    {
     "name": "stderr",
     "output_type": "stream",
     "text": [
      "C:\\Users\\FATMA\\AppData\\Local\\Temp\\ipykernel_16568\\2698716072.py:2: FutureWarning: The default of observed=False is deprecated and will be changed to True in a future version of pandas. Pass observed=False to retain current behavior or observed=True to adopt the future default and silence this warning.\n",
      "  print(pd.DataFrame({\"TARGET_MEAN\":dataframe.groupby(categorical_col)[target].mean()}))\n",
      "C:\\Users\\FATMA\\AppData\\Local\\Temp\\ipykernel_16568\\2698716072.py:2: FutureWarning: The default of observed=False is deprecated and will be changed to True in a future version of pandas. Pass observed=False to retain current behavior or observed=True to adopt the future default and silence this warning.\n",
      "  print(pd.DataFrame({\"TARGET_MEAN\":dataframe.groupby(categorical_col)[target].mean()}))\n"
     ]
    }
   ],
   "source": [
    "for col in cat_cols:\n",
    "    target_summary_with_cat(df, \"survived\", col)"
   ]
  },
  {
   "cell_type": "markdown",
   "id": "ebfacb72-6074-4251-8f6e-93543a58a006",
   "metadata": {},
   "source": [
    "Hedef Değişkenin Sayısal Değişkenler İle Aanalizi \n",
    " Sayısal Değişkenlerle Analiz: Sayısal değişkenlerle hedef değişken analiz edilirken, genellikle hedef değişkenin gruplarına göre sayısal bir değişkenin ortalaması ya da diğer istatistiksel değerleri hesaplanır. Örneğin, yaş gibi bir sayısal değişkenin, hedef değişkenin sınıflarına (hayatta kalma durumu) göre ortalaması bulunabilir."
   ]
  },
  {
   "cell_type": "code",
   "execution_count": 28,
   "id": "9e22c2fe-5cf4-4207-937a-ffdd7286ff81",
   "metadata": {},
   "outputs": [
    {
     "data": {
      "text/html": [
       "<div>\n",
       "<style scoped>\n",
       "    .dataframe tbody tr th:only-of-type {\n",
       "        vertical-align: middle;\n",
       "    }\n",
       "\n",
       "    .dataframe tbody tr th {\n",
       "        vertical-align: top;\n",
       "    }\n",
       "\n",
       "    .dataframe thead th {\n",
       "        text-align: right;\n",
       "    }\n",
       "</style>\n",
       "<table border=\"1\" class=\"dataframe\">\n",
       "  <thead>\n",
       "    <tr style=\"text-align: right;\">\n",
       "      <th></th>\n",
       "      <th>age</th>\n",
       "    </tr>\n",
       "    <tr>\n",
       "      <th>survived</th>\n",
       "      <th></th>\n",
       "    </tr>\n",
       "  </thead>\n",
       "  <tbody>\n",
       "    <tr>\n",
       "      <th>0</th>\n",
       "      <td>30.626179</td>\n",
       "    </tr>\n",
       "    <tr>\n",
       "      <th>1</th>\n",
       "      <td>28.343690</td>\n",
       "    </tr>\n",
       "  </tbody>\n",
       "</table>\n",
       "</div>"
      ],
      "text/plain": [
       "                age\n",
       "survived           \n",
       "0         30.626179\n",
       "1         28.343690"
      ]
     },
     "execution_count": 28,
     "metadata": {},
     "output_type": "execute_result"
    }
   ],
   "source": [
    "df.groupby(\"survived\").agg({\"age\": \"mean\"})"
   ]
  },
  {
   "cell_type": "code",
   "execution_count": 35,
   "id": "7d1de6fc-2c9c-4d12-a2d7-6c389c3e937e",
   "metadata": {},
   "outputs": [],
   "source": [
    " def target_summary_with_num(dataframe, target, numerical_col):\n",
    "     print(dataframe.groupby(target).agg({numerical_col:\"mean\"}))"
   ]
  },
  {
   "cell_type": "code",
   "execution_count": 37,
   "id": "443c00dc-6d85-41b7-ad0c-44e4d465eb3f",
   "metadata": {},
   "outputs": [
    {
     "name": "stdout",
     "output_type": "stream",
     "text": [
      "              age\n",
      "sex              \n",
      "female  27.915709\n",
      "male    30.726645\n",
      "             fare\n",
      "sex              \n",
      "female  44.479818\n",
      "male    25.523893\n"
     ]
    }
   ],
   "source": [
    "for col in num_cols: \n",
    "    target_summary_with_num(df,\"sex\",col)"
   ]
  }
 ],
 "metadata": {
  "kernelspec": {
   "display_name": "Python 3 (ipykernel)",
   "language": "python",
   "name": "python3"
  },
  "language_info": {
   "codemirror_mode": {
    "name": "ipython",
    "version": 3
   },
   "file_extension": ".py",
   "mimetype": "text/x-python",
   "name": "python",
   "nbconvert_exporter": "python",
   "pygments_lexer": "ipython3",
   "version": "3.11.7"
  }
 },
 "nbformat": 4,
 "nbformat_minor": 5
}
